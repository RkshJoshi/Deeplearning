{
 "cells": [
  {
   "cell_type": "markdown",
   "id": "e1dc7841",
   "metadata": {},
   "source": [
    "## Tensorflow fundamental exercise"
   ]
  },
  {
   "cell_type": "code",
   "execution_count": 1,
   "id": "2613041f",
   "metadata": {},
   "outputs": [],
   "source": [
    "import numpy as np\n",
    "import tensorflow as tf"
   ]
  },
  {
   "cell_type": "code",
   "execution_count": 4,
   "id": "0bebc37f",
   "metadata": {},
   "outputs": [
    {
     "data": {
      "text/plain": [
       "1"
      ]
     },
     "execution_count": 4,
     "metadata": {},
     "output_type": "execute_result"
    }
   ],
   "source": [
    "# Defining a vector\n",
    "ten1 = tf.constant([1,2,3])\n",
    "ten1.ndim"
   ]
  },
  {
   "cell_type": "code",
   "execution_count": null,
   "id": "af8db096",
   "metadata": {},
   "outputs": [],
   "source": []
  }
 ],
 "metadata": {
  "kernelspec": {
   "display_name": "Python 3",
   "language": "python",
   "name": "python3"
  },
  "language_info": {
   "codemirror_mode": {
    "name": "ipython",
    "version": 3
   },
   "file_extension": ".py",
   "mimetype": "text/x-python",
   "name": "python",
   "nbconvert_exporter": "python",
   "pygments_lexer": "ipython3",
   "version": "3.8.8"
  }
 },
 "nbformat": 4,
 "nbformat_minor": 5
}
