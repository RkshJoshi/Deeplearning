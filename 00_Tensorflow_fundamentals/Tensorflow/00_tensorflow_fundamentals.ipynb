{
 "cells": [
  {
   "cell_type": "markdown",
   "id": "b0048cff",
   "metadata": {},
   "source": [
    "### In this notebook we are going to cover some of the most fundamental concepts of tensors using tensorflow.\n",
    "\n",
    "More specifically we are going to cover:\n",
    "* Introduction to tesors\n",
    "* Getting information from tensors\n",
    "* Manipulating tesors\n",
    "* Tensors and Numpy\n",
    "* Using @tf.function (a wat to speed up the regular Python functions)\n",
    "* Using GPUs with Tensorflow or TPUs\n",
    "* Exercises to try"
   ]
  },
  {
   "cell_type": "markdown",
   "id": "028feddc",
   "metadata": {},
   "source": [
    "## Introduction to Tensors"
   ]
  },
  {
   "cell_type": "code",
   "execution_count": 70,
   "id": "ae91b4e2",
   "metadata": {},
   "outputs": [
    {
     "name": "stdout",
     "output_type": "stream",
     "text": [
      "2.3.0\n"
     ]
    }
   ],
   "source": [
    "# Import Tensorflow\n",
    "import tensorflow as tf\n",
    "import numpy as np\n",
    "print(tf.__version__)"
   ]
  },
  {
   "cell_type": "code",
   "execution_count": 6,
   "id": "83e4cc9a",
   "metadata": {},
   "outputs": [
    {
     "data": {
      "text/plain": [
       "<tf.Tensor: shape=(), dtype=int32, numpy=7>"
      ]
     },
     "execution_count": 6,
     "metadata": {},
     "output_type": "execute_result"
    }
   ],
   "source": [
    "# create tensor with tf.constant()\n",
    "scaler = tf.constant(7)\n",
    "scaler"
   ]
  },
  {
   "cell_type": "code",
   "execution_count": 7,
   "id": "af54b47e",
   "metadata": {},
   "outputs": [
    {
     "data": {
      "text/plain": [
       "0"
      ]
     },
     "execution_count": 7,
     "metadata": {},
     "output_type": "execute_result"
    }
   ],
   "source": [
    "# check the number of dimensions of a tensor (ndim stand for number of dimension)\n",
    "\n",
    "scaler.ndim\n"
   ]
  },
  {
   "cell_type": "code",
   "execution_count": 8,
   "id": "8c0c898d",
   "metadata": {},
   "outputs": [
    {
     "data": {
      "text/plain": [
       "<tf.Tensor: shape=(2,), dtype=int32, numpy=array([10, 10])>"
      ]
     },
     "execution_count": 8,
     "metadata": {},
     "output_type": "execute_result"
    }
   ],
   "source": [
    "# Create a vector\n",
    "vector = tf.constant([10,10])\n",
    "vector"
   ]
  },
  {
   "cell_type": "code",
   "execution_count": 10,
   "id": "cc68b8b5",
   "metadata": {},
   "outputs": [
    {
     "data": {
      "text/plain": [
       "1"
      ]
     },
     "execution_count": 10,
     "metadata": {},
     "output_type": "execute_result"
    }
   ],
   "source": [
    "# check the domension of the vector\n",
    "vector.ndim"
   ]
  },
  {
   "cell_type": "code",
   "execution_count": 11,
   "id": "99a7cfa8",
   "metadata": {},
   "outputs": [
    {
     "data": {
      "text/plain": [
       "<tf.Tensor: shape=(2, 2), dtype=int32, numpy=\n",
       "array([[10,  7],\n",
       "       [ 7, 10]])>"
      ]
     },
     "execution_count": 11,
     "metadata": {},
     "output_type": "execute_result"
    }
   ],
   "source": [
    "# create a matrix - more than one dimension\n",
    "matrix = tf.constant([[10,7],\n",
    "                     [7,10]])\n",
    "matrix"
   ]
  },
  {
   "cell_type": "code",
   "execution_count": 12,
   "id": "f1877cd7",
   "metadata": {},
   "outputs": [
    {
     "data": {
      "text/plain": [
       "2"
      ]
     },
     "execution_count": 12,
     "metadata": {},
     "output_type": "execute_result"
    }
   ],
   "source": [
    "matrix.ndim"
   ]
  },
  {
   "cell_type": "code",
   "execution_count": 16,
   "id": "68069543",
   "metadata": {},
   "outputs": [
    {
     "data": {
      "text/plain": [
       "<tf.Tensor: shape=(3, 2), dtype=float16, numpy=\n",
       "array([[10.,  5.],\n",
       "       [ 3.,  4.],\n",
       "       [ 5.,  6.]], dtype=float16)>"
      ]
     },
     "execution_count": 16,
     "metadata": {},
     "output_type": "execute_result"
    }
   ],
   "source": [
    "# Create another matrix\n",
    "matrix2 = tf.constant([[10.,5.],\n",
    "                      [3.,4.],\n",
    "                      [5.,6.]], dtype = tf.float16) # specify the datatype with dtype\n",
    "matrix2"
   ]
  },
  {
   "cell_type": "code",
   "execution_count": 17,
   "id": "3ba805e4",
   "metadata": {},
   "outputs": [
    {
     "data": {
      "text/plain": [
       "2"
      ]
     },
     "execution_count": 17,
     "metadata": {},
     "output_type": "execute_result"
    }
   ],
   "source": [
    "matrix2.ndim"
   ]
  },
  {
   "cell_type": "code",
   "execution_count": 18,
   "id": "113b547e",
   "metadata": {},
   "outputs": [
    {
     "data": {
      "text/plain": [
       "<tf.Tensor: shape=(3, 2, 3), dtype=int32, numpy=\n",
       "array([[[ 1,  2,  3],\n",
       "        [ 4,  5,  6]],\n",
       "\n",
       "       [[ 7,  8,  9],\n",
       "        [10, 11, 12]],\n",
       "\n",
       "       [[13, 14, 15],\n",
       "        [16, 17, 18]]])>"
      ]
     },
     "execution_count": 18,
     "metadata": {},
     "output_type": "execute_result"
    }
   ],
   "source": [
    "# Lets create a tensor\n",
    "tensor = tf.constant([[[1, 2, 3],\n",
    "                      [4, 5, 6]],\n",
    "                      [[7, 8, 9],\n",
    "                       [10,11,12]],\n",
    "                      [[13,14,15],\n",
    "                      [16,17,18]]])\n",
    "tensor"
   ]
  },
  {
   "cell_type": "code",
   "execution_count": 20,
   "id": "4c427cd1",
   "metadata": {},
   "outputs": [
    {
     "data": {
      "text/plain": [
       "3"
      ]
     },
     "execution_count": 20,
     "metadata": {},
     "output_type": "execute_result"
    }
   ],
   "source": [
    "tensor.ndim"
   ]
  },
  {
   "cell_type": "markdown",
   "id": "893affae",
   "metadata": {},
   "source": [
    "Scaler is a single number\n",
    "\n",
    "* Vector is a number with direction (e.g wind speed with direction)\n",
    "* Matrix  is a 2-D array of numbers\n",
    "* Tensor is a n-dimension array of numbers(when n can be any number; 0-dimensional  tensor is a scaler, \n",
    "  1-dimensional is a vector)"
   ]
  },
  {
   "cell_type": "code",
   "execution_count": 23,
   "id": "8e2a07d4",
   "metadata": {},
   "outputs": [
    {
     "data": {
      "text/plain": [
       "(<tf.Variable 'Variable:0' shape=(2,) dtype=int32, numpy=array([10,  7])>,\n",
       " <tf.Tensor: shape=(2,), dtype=int32, numpy=array([10,  7])>)"
      ]
     },
     "execution_count": 23,
     "metadata": {},
     "output_type": "execute_result"
    }
   ],
   "source": [
    "# Creating Tensors using tf.Variable\n",
    "changeable_tensor = tf.Variable([10,7])\n",
    "unchangeable_tensor = tf.constant([10,7])\n",
    "changeable_tensor,unchangeable_tensor"
   ]
  },
  {
   "cell_type": "code",
   "execution_count": 24,
   "id": "9165094e",
   "metadata": {},
   "outputs": [
    {
     "ename": "TypeError",
     "evalue": "'ResourceVariable' object does not support item assignment",
     "output_type": "error",
     "traceback": [
      "\u001b[1;31m---------------------------------------------------------------------------\u001b[0m",
      "\u001b[1;31mTypeError\u001b[0m                                 Traceback (most recent call last)",
      "\u001b[1;32m<ipython-input-24-ef4cb8e8a9e5>\u001b[0m in \u001b[0;36m<module>\u001b[1;34m\u001b[0m\n\u001b[0;32m      1\u001b[0m \u001b[1;31m# Lets try to change the element in the tensor\u001b[0m\u001b[1;33m\u001b[0m\u001b[1;33m\u001b[0m\u001b[1;33m\u001b[0m\u001b[0m\n\u001b[1;32m----> 2\u001b[1;33m \u001b[0mchangeable_tensor\u001b[0m\u001b[1;33m[\u001b[0m\u001b[1;36m0\u001b[0m\u001b[1;33m]\u001b[0m \u001b[1;33m=\u001b[0m \u001b[1;36m7\u001b[0m\u001b[1;33m\u001b[0m\u001b[1;33m\u001b[0m\u001b[0m\n\u001b[0m",
      "\u001b[1;31mTypeError\u001b[0m: 'ResourceVariable' object does not support item assignment"
     ]
    }
   ],
   "source": [
    "# Lets try to change the element in the tensor\n",
    "changeable_tensor[0] = 7"
   ]
  },
  {
   "cell_type": "code",
   "execution_count": 26,
   "id": "234f4713",
   "metadata": {},
   "outputs": [
    {
     "data": {
      "text/plain": [
       "<tf.Variable 'Variable:0' shape=(2,) dtype=int32, numpy=array([7, 7])>"
      ]
     },
     "execution_count": 26,
     "metadata": {},
     "output_type": "execute_result"
    }
   ],
   "source": [
    "#How about we using v.assign\n",
    "changeable_tensor[0].assign(7)\n",
    "changeable_tensor"
   ]
  },
  {
   "cell_type": "markdown",
   "id": "7818382b",
   "metadata": {},
   "source": [
    "# Creating Random Tensors \n",
    "Rarely in practise you need to decide whether to use tf.contant or tf.Variable to create tensor, as Tensorflow does this for you.\n",
    "When in doubt always go for constant tensors and change it later it needed."
   ]
  },
  {
   "cell_type": "code",
   "execution_count": 80,
   "id": "ff804b42",
   "metadata": {},
   "outputs": [
    {
     "data": {
      "text/plain": [
       "(<tf.Tensor: shape=(3, 2), dtype=float32, numpy=\n",
       " array([[-0.7565803 , -0.06854702],\n",
       "        [ 0.07595026, -1.2573844 ],\n",
       "        [-0.23193763, -1.8107855 ]], dtype=float32)>,\n",
       " <tf.Tensor: shape=(3, 2), dtype=float32, numpy=\n",
       " array([[0.7493447 , 0.73561966],\n",
       "        [0.45230794, 0.49039817],\n",
       "        [0.1889317 , 0.52027524]], dtype=float32)>,\n",
       " <tf.Tensor: shape=(3, 2), dtype=bool, numpy=\n",
       " array([[False, False],\n",
       "        [False, False],\n",
       "        [False, False]])>)"
      ]
     },
     "execution_count": 80,
     "metadata": {},
     "output_type": "execute_result"
    }
   ],
   "source": [
    "# Create two random but same tensors\n",
    "random_1 = tf.random.Generator.from_seed(42) # Set seed for reproduciability\n",
    "random_1 = random_1.normal(shape=(3,2))\n",
    "random_2 = tf.random.Generator.from_seed(42)\n",
    "random_2 = random_2.uniform(shape=(3,2))\n",
    "\n",
    "# Are they equal \n",
    "random_1, random_2, random_1 == random_2"
   ]
  },
  {
   "cell_type": "markdown",
   "id": "2a3fb127",
   "metadata": {},
   "source": [
    "### Shuffle the order of elements in a tensor"
   ]
  },
  {
   "cell_type": "code",
   "execution_count": 39,
   "id": "721cf241",
   "metadata": {},
   "outputs": [],
   "source": [
    "# Shuffle a tensor(valuable for when you want to shuffle the data during training)\n",
    "not_shuffled = tf.constant([[4,5],\n",
    "                           [6,7],\n",
    "                           [8,9]])\n",
    "# shuffle your tensor\n",
    "\n"
   ]
  },
  {
   "cell_type": "code",
   "execution_count": 41,
   "id": "736992fa",
   "metadata": {},
   "outputs": [
    {
     "data": {
      "text/plain": [
       "<tf.Tensor: shape=(3, 2), dtype=int32, numpy=\n",
       "array([[4, 5],\n",
       "       [6, 7],\n",
       "       [8, 9]])>"
      ]
     },
     "execution_count": 41,
     "metadata": {},
     "output_type": "execute_result"
    }
   ],
   "source": [
    "tf.random.set_seed(42)\n",
    "tf.random.shuffle(not_shuffled, seed=42) # shuffled along the first dimension"
   ]
  },
  {
   "cell_type": "code",
   "execution_count": 42,
   "id": "f58d6c2e",
   "metadata": {},
   "outputs": [],
   "source": [
    "random_3 = tf.constant([[8,9],\n",
    "                       [7,5],\n",
    "                       [4,7]])"
   ]
  },
  {
   "cell_type": "code",
   "execution_count": 68,
   "id": "40938499",
   "metadata": {},
   "outputs": [
    {
     "data": {
      "text/plain": [
       "<tf.Tensor: shape=(3, 2), dtype=int32, numpy=\n",
       "array([[8, 9],\n",
       "       [7, 5],\n",
       "       [4, 7]])>"
      ]
     },
     "execution_count": 68,
     "metadata": {},
     "output_type": "execute_result"
    }
   ],
   "source": [
    "tf.random.set_seed(42) #GLobal level random seed\n",
    "tf.random.shuffle(random_3, seed=42)"
   ]
  },
  {
   "cell_type": "code",
   "execution_count": 72,
   "id": "f5ef6250",
   "metadata": {},
   "outputs": [
    {
     "data": {
      "text/plain": [
       "<tf.Tensor: shape=(10, 3), dtype=float32, numpy=\n",
       "array([[1., 1., 1.],\n",
       "       [1., 1., 1.],\n",
       "       [1., 1., 1.],\n",
       "       [1., 1., 1.],\n",
       "       [1., 1., 1.],\n",
       "       [1., 1., 1.],\n",
       "       [1., 1., 1.],\n",
       "       [1., 1., 1.],\n",
       "       [1., 1., 1.],\n",
       "       [1., 1., 1.]], dtype=float32)>"
      ]
     },
     "execution_count": 72,
     "metadata": {},
     "output_type": "execute_result"
    }
   ],
   "source": [
    "#Other ways to make sensors\n",
    "tf.ones([10,3])"
   ]
  },
  {
   "cell_type": "code",
   "execution_count": 74,
   "id": "f2df82f0",
   "metadata": {},
   "outputs": [
    {
     "data": {
      "text/plain": [
       "<tf.Tensor: shape=(10, 4), dtype=float32, numpy=\n",
       "array([[0., 0., 0., 0.],\n",
       "       [0., 0., 0., 0.],\n",
       "       [0., 0., 0., 0.],\n",
       "       [0., 0., 0., 0.],\n",
       "       [0., 0., 0., 0.],\n",
       "       [0., 0., 0., 0.],\n",
       "       [0., 0., 0., 0.],\n",
       "       [0., 0., 0., 0.],\n",
       "       [0., 0., 0., 0.],\n",
       "       [0., 0., 0., 0.]], dtype=float32)>"
      ]
     },
     "execution_count": 74,
     "metadata": {},
     "output_type": "execute_result"
    }
   ],
   "source": [
    "# Create tensors of all zeroes\n",
    "tf.zeros(shape=[10,4])"
   ]
  },
  {
   "cell_type": "markdown",
   "id": "85830037",
   "metadata": {},
   "source": [
    "### Turn Numpy arrays into tensors\n",
    "The main difference between numpy arrays and tensors is that tensors can be run on a GPU(much faster for computing)"
   ]
  },
  {
   "cell_type": "code",
   "execution_count": 77,
   "id": "6cd6700b",
   "metadata": {},
   "outputs": [
    {
     "data": {
      "text/plain": [
       "array([ 1,  2,  3,  4,  5,  6,  7,  8,  9, 10, 11, 12, 13, 14, 15, 16, 17,\n",
       "       18, 19, 20, 21, 22, 23, 24])"
      ]
     },
     "execution_count": 77,
     "metadata": {},
     "output_type": "execute_result"
    }
   ],
   "source": [
    "# You can also convert numpy into tensors\n",
    "numpy_a = np.arange(1,25, dtype=np.int32)\n",
    "numpy_a\n",
    "# X = tf.constant(some_matrix) # capital for matrix or tensor\n",
    "# y = tf.constant(vector)  # non-capital for vector"
   ]
  },
  {
   "cell_type": "code",
   "execution_count": 82,
   "id": "9842267c",
   "metadata": {},
   "outputs": [
    {
     "data": {
      "text/plain": [
       "(<tf.Tensor: shape=(2, 3, 4), dtype=int32, numpy=\n",
       " array([[[ 1,  2,  3,  4],\n",
       "         [ 5,  6,  7,  8],\n",
       "         [ 9, 10, 11, 12]],\n",
       " \n",
       "        [[13, 14, 15, 16],\n",
       "         [17, 18, 19, 20],\n",
       "         [21, 22, 23, 24]]])>,\n",
       " <tf.Tensor: shape=(4, 6), dtype=int32, numpy=\n",
       " array([[ 1,  2,  3,  4,  5,  6],\n",
       "        [ 7,  8,  9, 10, 11, 12],\n",
       "        [13, 14, 15, 16, 17, 18],\n",
       "        [19, 20, 21, 22, 23, 24]])>)"
      ]
     },
     "execution_count": 82,
     "metadata": {},
     "output_type": "execute_result"
    }
   ],
   "source": [
    "A = tf.constant(numpy_a,shape= (2,3,4))\n",
    "B = tf.constant(numpy_a, shape = (4,6))\n",
    "\n",
    "A,B"
   ]
  },
  {
   "cell_type": "code",
   "execution_count": 84,
   "id": "4408bc7d",
   "metadata": {},
   "outputs": [],
   "source": [
    "# Getting information from tensors\n",
    "array1 = np.array([1,2,3,4,5,6,7,7,8])"
   ]
  },
  {
   "cell_type": "code",
   "execution_count": 89,
   "id": "120f96de",
   "metadata": {},
   "outputs": [
    {
     "data": {
      "text/plain": [
       "<tf.Tensor: shape=(1, 3, 3), dtype=int32, numpy=\n",
       "array([[[1, 2, 3],\n",
       "        [4, 5, 6],\n",
       "        [7, 7, 8]]])>"
      ]
     },
     "execution_count": 89,
     "metadata": {},
     "output_type": "execute_result"
    }
   ],
   "source": [
    "C = tf.constant(array1,shape=(1,3,3))\n",
    "C"
   ]
  },
  {
   "cell_type": "code",
   "execution_count": 91,
   "id": "88b4c179",
   "metadata": {},
   "outputs": [
    {
     "data": {
      "text/plain": [
       "(3, 3, 2)"
      ]
     },
     "execution_count": 91,
     "metadata": {},
     "output_type": "execute_result"
    }
   ],
   "source": [
    "C.ndim,A.ndim,B.ndim"
   ]
  },
  {
   "cell_type": "markdown",
   "id": "7e29d30b",
   "metadata": {},
   "source": [
    "## Getting information from Tensors\n",
    "-- Shape\n",
    "-- Rank\n",
    "-- Axis or Dimension\n",
    "-- Size"
   ]
  },
  {
   "cell_type": "code",
   "execution_count": 97,
   "id": "c7e3c955",
   "metadata": {},
   "outputs": [
    {
     "data": {
      "text/plain": [
       "<tf.Tensor: shape=(2, 3, 4, 5), dtype=float32, numpy=\n",
       "array([[[[1., 1., 1., 1., 1.],\n",
       "         [1., 1., 1., 1., 1.],\n",
       "         [1., 1., 1., 1., 1.],\n",
       "         [1., 1., 1., 1., 1.]],\n",
       "\n",
       "        [[1., 1., 1., 1., 1.],\n",
       "         [1., 1., 1., 1., 1.],\n",
       "         [1., 1., 1., 1., 1.],\n",
       "         [1., 1., 1., 1., 1.]],\n",
       "\n",
       "        [[1., 1., 1., 1., 1.],\n",
       "         [1., 1., 1., 1., 1.],\n",
       "         [1., 1., 1., 1., 1.],\n",
       "         [1., 1., 1., 1., 1.]]],\n",
       "\n",
       "\n",
       "       [[[1., 1., 1., 1., 1.],\n",
       "         [1., 1., 1., 1., 1.],\n",
       "         [1., 1., 1., 1., 1.],\n",
       "         [1., 1., 1., 1., 1.]],\n",
       "\n",
       "        [[1., 1., 1., 1., 1.],\n",
       "         [1., 1., 1., 1., 1.],\n",
       "         [1., 1., 1., 1., 1.],\n",
       "         [1., 1., 1., 1., 1.]],\n",
       "\n",
       "        [[1., 1., 1., 1., 1.],\n",
       "         [1., 1., 1., 1., 1.],\n",
       "         [1., 1., 1., 1., 1.],\n",
       "         [1., 1., 1., 1., 1.]]]], dtype=float32)>"
      ]
     },
     "execution_count": 97,
     "metadata": {},
     "output_type": "execute_result"
    }
   ],
   "source": [
    "rank_4_tensor = tf.ones(shape=[2,3,4,5])\n",
    "rank_4_tensor"
   ]
  },
  {
   "cell_type": "code",
   "execution_count": 98,
   "id": "139c7ca3",
   "metadata": {},
   "outputs": [
    {
     "data": {
      "text/plain": [
       "<tf.Tensor: shape=(3, 4, 5), dtype=float32, numpy=\n",
       "array([[[1., 1., 1., 1., 1.],\n",
       "        [1., 1., 1., 1., 1.],\n",
       "        [1., 1., 1., 1., 1.],\n",
       "        [1., 1., 1., 1., 1.]],\n",
       "\n",
       "       [[1., 1., 1., 1., 1.],\n",
       "        [1., 1., 1., 1., 1.],\n",
       "        [1., 1., 1., 1., 1.],\n",
       "        [1., 1., 1., 1., 1.]],\n",
       "\n",
       "       [[1., 1., 1., 1., 1.],\n",
       "        [1., 1., 1., 1., 1.],\n",
       "        [1., 1., 1., 1., 1.],\n",
       "        [1., 1., 1., 1., 1.]]], dtype=float32)>"
      ]
     },
     "execution_count": 98,
     "metadata": {},
     "output_type": "execute_result"
    }
   ],
   "source": [
    "rank_4_tensor[0]"
   ]
  },
  {
   "cell_type": "code",
   "execution_count": 101,
   "id": "777d62b2",
   "metadata": {},
   "outputs": [
    {
     "data": {
      "text/plain": [
       "(TensorShape([2, 3, 4, 5]), 4, <tf.Tensor: shape=(), dtype=int32, numpy=120>)"
      ]
     },
     "execution_count": 101,
     "metadata": {},
     "output_type": "execute_result"
    }
   ],
   "source": [
    "rank_4_tensor.shape, rank_4_tensor.ndim, tf.size(rank_4_tensor)"
   ]
  },
  {
   "cell_type": "code",
   "execution_count": 106,
   "id": "37184055",
   "metadata": {},
   "outputs": [
    {
     "name": "stdout",
     "output_type": "stream",
     "text": [
      "Datatype of every element <dtype: 'float32'>\n",
      "Number of dimensions tf.Tensor(120, shape=(), dtype=int32)\n",
      "Shape of the tensor (2, 3, 4, 5)\n",
      "Element along the o axis tf.Tensor(\n",
      "[[[1. 1. 1. 1. 1.]\n",
      "  [1. 1. 1. 1. 1.]\n",
      "  [1. 1. 1. 1. 1.]\n",
      "  [1. 1. 1. 1. 1.]]\n",
      "\n",
      " [[1. 1. 1. 1. 1.]\n",
      "  [1. 1. 1. 1. 1.]\n",
      "  [1. 1. 1. 1. 1.]\n",
      "  [1. 1. 1. 1. 1.]]\n",
      "\n",
      " [[1. 1. 1. 1. 1.]\n",
      "  [1. 1. 1. 1. 1.]\n",
      "  [1. 1. 1. 1. 1.]\n",
      "  [1. 1. 1. 1. 1.]]], shape=(3, 4, 5), dtype=float32)\n",
      "Element along the last axis tf.Tensor(\n",
      "[[[1. 1. 1. 1. 1.]\n",
      "  [1. 1. 1. 1. 1.]\n",
      "  [1. 1. 1. 1. 1.]\n",
      "  [1. 1. 1. 1. 1.]]\n",
      "\n",
      " [[1. 1. 1. 1. 1.]\n",
      "  [1. 1. 1. 1. 1.]\n",
      "  [1. 1. 1. 1. 1.]\n",
      "  [1. 1. 1. 1. 1.]]\n",
      "\n",
      " [[1. 1. 1. 1. 1.]\n",
      "  [1. 1. 1. 1. 1.]\n",
      "  [1. 1. 1. 1. 1.]\n",
      "  [1. 1. 1. 1. 1.]]], shape=(3, 4, 5), dtype=float32)\n",
      "Total number of elements in the tensors are tf.Tensor(120, shape=(), dtype=int32)\n",
      "Total number of elements in the tensors are 120\n"
     ]
    }
   ],
   "source": [
    "# Get various attributes of our tensors\n",
    "print(\"Datatype of every element\", rank_4_tensor.dtype)\n",
    "print(\"Number of dimensions\", tf.size(rank_4_tensor))\n",
    "print(\"Shape of the tensor\", rank_4_tensor.shape)\n",
    "print(\"Element along the o axis\", rank_4_tensor[0])\n",
    "print(\"Element along the last axis\", rank_4_tensor[-1])\n",
    "print(\"Total number of elements in the tensors are\", tf.size(rank_4_tensor))\n",
    "print(\"Total number of elements in the tensors are\", tf.size(rank_4_tensor).numpy())"
   ]
  },
  {
   "cell_type": "markdown",
   "id": "71d071e7",
   "metadata": {},
   "source": [
    "### Indexing Tensors\n",
    "Tensors can be indexed just like Python list."
   ]
  },
  {
   "cell_type": "code",
   "execution_count": 110,
   "id": "518ea8ac",
   "metadata": {},
   "outputs": [
    {
     "data": {
      "text/plain": [
       "<tf.Tensor: shape=(2, 2, 2, 2), dtype=float32, numpy=\n",
       "array([[[[1., 1.],\n",
       "         [1., 1.]],\n",
       "\n",
       "        [[1., 1.],\n",
       "         [1., 1.]]],\n",
       "\n",
       "\n",
       "       [[[1., 1.],\n",
       "         [1., 1.]],\n",
       "\n",
       "        [[1., 1.],\n",
       "         [1., 1.]]]], dtype=float32)>"
      ]
     },
     "execution_count": 110,
     "metadata": {},
     "output_type": "execute_result"
    }
   ],
   "source": [
    "# Get the first 2 elements of each dimension\n",
    "rank_4_tensor[:2,:2,:2,:2]"
   ]
  },
  {
   "cell_type": "code",
   "execution_count": 112,
   "id": "701d3e90",
   "metadata": {},
   "outputs": [
    {
     "data": {
      "text/plain": [
       "<tf.Tensor: shape=(2, 3), dtype=int32, numpy=\n",
       "array([[1, 3, 5],\n",
       "       [2, 4, 7]])>"
      ]
     },
     "execution_count": 112,
     "metadata": {},
     "output_type": "execute_result"
    }
   ],
   "source": [
    "rank_2_tensor = tf.constant([[1,3,5],\n",
    "                            [2,4,7]])\n",
    "rank_2_tensor"
   ]
  },
  {
   "cell_type": "code",
   "execution_count": 115,
   "id": "3d6c64a5",
   "metadata": {},
   "outputs": [
    {
     "data": {
      "text/plain": [
       "<tf.Tensor: shape=(), dtype=int32, numpy=2>"
      ]
     },
     "execution_count": 115,
     "metadata": {},
     "output_type": "execute_result"
    }
   ],
   "source": [
    "tf.rank(rank_2_tensor)"
   ]
  },
  {
   "cell_type": "code",
   "execution_count": 118,
   "id": "31854a37",
   "metadata": {},
   "outputs": [
    {
     "data": {
      "text/plain": [
       "<tf.Tensor: shape=(2,), dtype=int32, numpy=array([5, 7])>"
      ]
     },
     "execution_count": 118,
     "metadata": {},
     "output_type": "execute_result"
    }
   ],
   "source": [
    "rank_2_tensor[:,-1]"
   ]
  },
  {
   "cell_type": "code",
   "execution_count": 122,
   "id": "75e23247",
   "metadata": {},
   "outputs": [],
   "source": [
    "rank_3_tensor = rank_2_tensor[...,tf.newaxis]"
   ]
  },
  {
   "cell_type": "code",
   "execution_count": 120,
   "id": "d6820463",
   "metadata": {},
   "outputs": [
    {
     "data": {
      "text/plain": [
       "<tf.Tensor: shape=(2, 3, 1), dtype=int32, numpy=\n",
       "array([[[1],\n",
       "        [3],\n",
       "        [5]],\n",
       "\n",
       "       [[2],\n",
       "        [4],\n",
       "        [7]]])>"
      ]
     },
     "execution_count": 120,
     "metadata": {},
     "output_type": "execute_result"
    }
   ],
   "source": [
    "rank_3_tensor"
   ]
  },
  {
   "cell_type": "code",
   "execution_count": 121,
   "id": "c869eb9b",
   "metadata": {},
   "outputs": [
    {
     "data": {
      "text/plain": [
       "TensorShape([2, 3, 1])"
      ]
     },
     "execution_count": 121,
     "metadata": {},
     "output_type": "execute_result"
    }
   ],
   "source": [
    "rank_3_tensor.shape"
   ]
  },
  {
   "cell_type": "code",
   "execution_count": 124,
   "id": "29f62131",
   "metadata": {},
   "outputs": [
    {
     "data": {
      "text/plain": [
       "<tf.Tensor: shape=(2, 3, 1), dtype=int32, numpy=\n",
       "array([[[1],\n",
       "        [3],\n",
       "        [5]],\n",
       "\n",
       "       [[2],\n",
       "        [4],\n",
       "        [7]]])>"
      ]
     },
     "execution_count": 124,
     "metadata": {},
     "output_type": "execute_result"
    }
   ],
   "source": [
    "#Alternative to tf.newaxis\n",
    "tf.expand_dims(rank_2_tensor,axis=-1)  # \"-1\" means expand the final axis"
   ]
  },
  {
   "cell_type": "code",
   "execution_count": 125,
   "id": "ab6e7a6d",
   "metadata": {},
   "outputs": [
    {
     "data": {
      "text/plain": [
       "<tf.Tensor: shape=(1, 2, 3), dtype=int32, numpy=\n",
       "array([[[1, 3, 5],\n",
       "        [2, 4, 7]]])>"
      ]
     },
     "execution_count": 125,
     "metadata": {},
     "output_type": "execute_result"
    }
   ],
   "source": [
    "tf.expand_dims(rank_2_tensor, axis=0)"
   ]
  },
  {
   "cell_type": "markdown",
   "id": "83a87c4c",
   "metadata": {},
   "source": [
    "### Manipulating tensor, tensor operations"
   ]
  },
  {
   "cell_type": "code",
   "execution_count": 127,
   "id": "ea8e6517",
   "metadata": {},
   "outputs": [
    {
     "data": {
      "text/plain": [
       "<tf.Tensor: shape=(2, 3), dtype=int32, numpy=\n",
       "array([[1, 3, 5],\n",
       "       [2, 4, 7]])>"
      ]
     },
     "execution_count": 127,
     "metadata": {},
     "output_type": "execute_result"
    }
   ],
   "source": [
    "rank_2_tensor"
   ]
  },
  {
   "cell_type": "markdown",
   "id": "29efa40d",
   "metadata": {},
   "source": [
    "**Basic Operations**\n",
    "+,-,*,/"
   ]
  },
  {
   "cell_type": "code",
   "execution_count": 128,
   "id": "0cbeb8e5",
   "metadata": {},
   "outputs": [
    {
     "data": {
      "text/plain": [
       "<tf.Tensor: shape=(3, 2), dtype=int32, numpy=\n",
       "array([[14, 15],\n",
       "       [18, 19],\n",
       "       [17, 19]])>"
      ]
     },
     "execution_count": 128,
     "metadata": {},
     "output_type": "execute_result"
    }
   ],
   "source": [
    "tensor = tf.constant([[4,5],[8,9],[7,9]])\n",
    "tensor + 10"
   ]
  },
  {
   "cell_type": "code",
   "execution_count": 130,
   "id": "8c5a2bdb",
   "metadata": {},
   "outputs": [
    {
     "data": {
      "text/plain": [
       "<tf.Tensor: shape=(3, 2), dtype=int32, numpy=\n",
       "array([[ 6,  7],\n",
       "       [10, 11],\n",
       "       [ 9, 11]])>"
      ]
     },
     "execution_count": 130,
     "metadata": {},
     "output_type": "execute_result"
    }
   ],
   "source": [
    "tensor = tensor + 1\n",
    "tensor"
   ]
  },
  {
   "cell_type": "code",
   "execution_count": 133,
   "id": "5b19b1ea",
   "metadata": {},
   "outputs": [
    {
     "data": {
      "text/plain": [
       "(<tf.Tensor: shape=(3, 2), dtype=int32, numpy=\n",
       " array([[114, 133],\n",
       "        [190, 209],\n",
       "        [171, 209]])>,\n",
       " <tf.Tensor: shape=(3, 2), dtype=int32, numpy=\n",
       " array([[-5, -4],\n",
       "        [-1,  0],\n",
       "        [-2,  0]])>,\n",
       " <tf.Tensor: shape=(3, 2), dtype=float64, numpy=\n",
       " array([[3. , 3.5],\n",
       "        [5. , 5.5],\n",
       "        [4.5, 5.5]])>)"
      ]
     },
     "execution_count": 133,
     "metadata": {},
     "output_type": "execute_result"
    }
   ],
   "source": [
    "# Multiplication\n",
    "tensor*19,tensor-11, tensor/2"
   ]
  },
  {
   "cell_type": "code",
   "execution_count": 134,
   "id": "9ceb590a",
   "metadata": {},
   "outputs": [
    {
     "data": {
      "text/plain": [
       "<tf.Tensor: shape=(3, 2), dtype=int32, numpy=\n",
       "array([[ 60,  70],\n",
       "       [100, 110],\n",
       "       [ 90, 110]])>"
      ]
     },
     "execution_count": 134,
     "metadata": {},
     "output_type": "execute_result"
    }
   ],
   "source": [
    "tf.multiply(tensor,10)"
   ]
  },
  {
   "cell_type": "code",
   "execution_count": 135,
   "id": "8fc446ba",
   "metadata": {},
   "outputs": [
    {
     "data": {
      "text/plain": [
       "<tf.Tensor: shape=(3, 2), dtype=int32, numpy=\n",
       "array([[ 6,  7],\n",
       "       [10, 11],\n",
       "       [ 9, 11]])>"
      ]
     },
     "execution_count": 135,
     "metadata": {},
     "output_type": "execute_result"
    }
   ],
   "source": [
    "tensor"
   ]
  },
  {
   "cell_type": "markdown",
   "id": "f32e4276",
   "metadata": {},
   "source": [
    "### Matrix multiplication\n",
    "In machine learning matrix multiplication is basic and important part of the process"
   ]
  },
  {
   "cell_type": "code",
   "execution_count": 138,
   "id": "69153e72",
   "metadata": {},
   "outputs": [
    {
     "name": "stdout",
     "output_type": "stream",
     "text": [
      "tf.Tensor(\n",
      "[[ 6  7]\n",
      " [10 11]\n",
      " [ 9 11]], shape=(3, 2), dtype=int32)\n"
     ]
    },
    {
     "data": {
      "text/plain": [
       "<tf.Tensor: shape=(3, 3), dtype=int32, numpy=\n",
       "array([[ 85, 137, 131],\n",
       "       [137, 221, 211],\n",
       "       [131, 211, 202]])>"
      ]
     },
     "execution_count": 138,
     "metadata": {},
     "output_type": "execute_result"
    }
   ],
   "source": [
    "# Dot product of two matrix\n",
    "print(tensor)\n",
    "tf.matmul(tensor,tf.transpose(tensor))"
   ]
  },
  {
   "cell_type": "code",
   "execution_count": 140,
   "id": "2f40bc73",
   "metadata": {},
   "outputs": [
    {
     "data": {
      "text/plain": [
       "<tf.Tensor: shape=(3, 3), dtype=int32, numpy=\n",
       "array([[ 85, 137, 131],\n",
       "       [137, 221, 211],\n",
       "       [131, 211, 202]])>"
      ]
     },
     "execution_count": 140,
     "metadata": {},
     "output_type": "execute_result"
    }
   ],
   "source": [
    "##In python we can bascially use '@' for matrix multiplication\n",
    "tensor @ tf.transpose(tensor)"
   ]
  },
  {
   "cell_type": "markdown",
   "id": "901562bf",
   "metadata": {},
   "source": [
    "** Dot product **\n",
    "We can perform this multiplication using:\n",
    "tf.matmul\n",
    "tf.tensordot"
   ]
  },
  {
   "cell_type": "code",
   "execution_count": 142,
   "id": "aeffe0bf",
   "metadata": {},
   "outputs": [
    {
     "data": {
      "text/plain": [
       "<tf.Tensor: shape=(3, 3), dtype=int32, numpy=\n",
       "array([[ 85, 137, 131],\n",
       "       [137, 221, 211],\n",
       "       [131, 211, 202]])>"
      ]
     },
     "execution_count": 142,
     "metadata": {},
     "output_type": "execute_result"
    }
   ],
   "source": [
    "tf.tensordot(tensor, tf.transpose(tensor), axes=1)"
   ]
  },
  {
   "cell_type": "code",
   "execution_count": 144,
   "id": "1e5af1e7",
   "metadata": {},
   "outputs": [
    {
     "data": {
      "text/plain": [
       "<tf.Tensor: shape=(3, 3), dtype=int32, numpy=\n",
       "array([[113, 105, 137],\n",
       "       [181, 169, 221],\n",
       "       [175, 162, 211]])>"
      ]
     },
     "execution_count": 144,
     "metadata": {},
     "output_type": "execute_result"
    }
   ],
   "source": [
    "tf.tensordot(tensor, tf.reshape(tensor, shape=(2,3)), axes=1)"
   ]
  },
  {
   "cell_type": "code",
   "execution_count": 145,
   "id": "1dfd205e",
   "metadata": {},
   "outputs": [
    {
     "data": {
      "text/plain": [
       "tf.float32"
      ]
     },
     "execution_count": 145,
     "metadata": {},
     "output_type": "execute_result"
    }
   ],
   "source": [
    "M =  tf.constant([1.5,5.6])\n",
    "M.dtype"
   ]
  },
  {
   "cell_type": "code",
   "execution_count": 146,
   "id": "df04fa09",
   "metadata": {},
   "outputs": [
    {
     "data": {
      "text/plain": [
       "(<tf.Tensor: shape=(2,), dtype=float16, numpy=array([1.5, 5.6], dtype=float16)>,\n",
       " tf.float16)"
      ]
     },
     "execution_count": 146,
     "metadata": {},
     "output_type": "execute_result"
    }
   ],
   "source": [
    "N = tf.cast(M, dtype=tf.float16)\n",
    "N, N.dtype"
   ]
  },
  {
   "cell_type": "markdown",
   "id": "6a62ddb7",
   "metadata": {},
   "source": [
    "### Aggregating Tensors"
   ]
  },
  {
   "cell_type": "code",
   "execution_count": 148,
   "id": "4dfd3612",
   "metadata": {},
   "outputs": [],
   "source": [
    "# Get the absolute values"
   ]
  },
  {
   "cell_type": "code",
   "execution_count": 149,
   "id": "80a66e54",
   "metadata": {},
   "outputs": [
    {
     "data": {
      "text/plain": [
       "<tf.Tensor: shape=(2,), dtype=int32, numpy=array([-1, -9])>"
      ]
     },
     "execution_count": 149,
     "metadata": {},
     "output_type": "execute_result"
    }
   ],
   "source": [
    "N = tf.constant([-1,-9])\n",
    "N"
   ]
  },
  {
   "cell_type": "code",
   "execution_count": 150,
   "id": "498cd2a4",
   "metadata": {},
   "outputs": [
    {
     "data": {
      "text/plain": [
       "<tf.Tensor: shape=(2,), dtype=int32, numpy=array([1, 9])>"
      ]
     },
     "execution_count": 150,
     "metadata": {},
     "output_type": "execute_result"
    }
   ],
   "source": [
    "tf.abs(N)"
   ]
  },
  {
   "cell_type": "code",
   "execution_count": 156,
   "id": "d26ac12e",
   "metadata": {},
   "outputs": [
    {
     "data": {
      "text/plain": [
       "<tf.Tensor: shape=(3, 2), dtype=int32, numpy=\n",
       "array([[ 6,  7],\n",
       "       [10, 11],\n",
       "       [ 9, 11]])>"
      ]
     },
     "execution_count": 156,
     "metadata": {},
     "output_type": "execute_result"
    }
   ],
   "source": [
    "tensor"
   ]
  },
  {
   "cell_type": "code",
   "execution_count": 154,
   "id": "23dd6a96",
   "metadata": {},
   "outputs": [
    {
     "data": {
      "text/plain": [
       "(<tf.Tensor: shape=(), dtype=int32, numpy=9>,\n",
       " <tf.Tensor: shape=(), dtype=int32, numpy=11>,\n",
       " <tf.Tensor: shape=(), dtype=int32, numpy=6>,\n",
       " <tf.Tensor: shape=(), dtype=int32, numpy=54>)"
      ]
     },
     "execution_count": 154,
     "metadata": {},
     "output_type": "execute_result"
    }
   ],
   "source": [
    "# Mean of tensor\n",
    "tf.reduce_mean(tensor), tf.reduce_max(tensor), tf.reduce_min(tensor), tf.reduce_sum(tensor)"
   ]
  },
  {
   "cell_type": "code",
   "execution_count": 161,
   "id": "04bf2842",
   "metadata": {},
   "outputs": [
    {
     "data": {
      "text/plain": [
       "<tf.Tensor: shape=(), dtype=float16, numpy=1.915>"
      ]
     },
     "execution_count": 161,
     "metadata": {},
     "output_type": "execute_result"
    }
   ],
   "source": [
    "tf.math.reduce_std(tf.cast(tensor,dtype=tf.float16))"
   ]
  },
  {
   "cell_type": "code",
   "execution_count": 162,
   "id": "169b163b",
   "metadata": {},
   "outputs": [
    {
     "data": {
      "text/plain": [
       "<tf.Tensor: shape=(), dtype=float16, numpy=3.666>"
      ]
     },
     "execution_count": 162,
     "metadata": {},
     "output_type": "execute_result"
    }
   ],
   "source": [
    "tf.math.reduce_variance(tf.cast(tensor,dtype=tf.float16))"
   ]
  },
  {
   "cell_type": "code",
   "execution_count": 164,
   "id": "a77a1b48",
   "metadata": {},
   "outputs": [
    {
     "data": {
      "text/plain": [
       "(<tf.Tensor: shape=(2,), dtype=int64, numpy=array([1, 1], dtype=int64)>,\n",
       " <tf.Tensor: shape=(2,), dtype=int64, numpy=array([0, 0], dtype=int64)>)"
      ]
     },
     "execution_count": 164,
     "metadata": {},
     "output_type": "execute_result"
    }
   ],
   "source": [
    "## find the positional maximum and minimum\n",
    "tf.argmax(tensor), tf.argmin(tensor)"
   ]
  },
  {
   "cell_type": "code",
   "execution_count": 168,
   "id": "bdd8d347",
   "metadata": {},
   "outputs": [
    {
     "data": {
      "text/plain": [
       "<tf.Tensor: shape=(1, 1, 1, 1, 1, 1, 50), dtype=float32, numpy=\n",
       "array([[[[[[[0.4163028 , 0.26858163, 0.47968316, 0.36457133,\n",
       "             0.95471144, 0.9418646 , 0.61483395, 0.35842144,\n",
       "             0.5936024 , 0.21551096, 0.07745171, 0.57921314,\n",
       "             0.29180396, 0.26718032, 0.37012458, 0.7161033 ,\n",
       "             0.45877767, 0.11764562, 0.21073711, 0.5441973 ,\n",
       "             0.9898069 , 0.38395858, 0.04683566, 0.8718462 ,\n",
       "             0.25881708, 0.873135  , 0.64698434, 0.41981232,\n",
       "             0.24148273, 0.09550059, 0.9820819 , 0.1570208 ,\n",
       "             0.2997682 , 0.36795306, 0.9453716 , 0.11056781,\n",
       "             0.52287626, 0.8305441 , 0.0020721 , 0.9594034 ,\n",
       "             0.85630023, 0.3944497 , 0.22028875, 0.67066073,\n",
       "             0.01875746, 0.48057055, 0.5953454 , 0.6847329 ,\n",
       "             0.18988943, 0.12489867]]]]]]], dtype=float32)>"
      ]
     },
     "execution_count": 168,
     "metadata": {},
     "output_type": "execute_result"
    }
   ],
   "source": [
    "# Squeezing of tensors\n",
    "tf.random.set_seed(42)\n",
    "M = tf.random.uniform(shape=(1,1,1,1,1,1,50),seed=42)\n",
    "M"
   ]
  },
  {
   "cell_type": "code",
   "execution_count": 169,
   "id": "6d9396b0",
   "metadata": {},
   "outputs": [
    {
     "data": {
      "text/plain": [
       "<tf.Tensor: shape=(50,), dtype=float32, numpy=\n",
       "array([0.4163028 , 0.26858163, 0.47968316, 0.36457133, 0.95471144,\n",
       "       0.9418646 , 0.61483395, 0.35842144, 0.5936024 , 0.21551096,\n",
       "       0.07745171, 0.57921314, 0.29180396, 0.26718032, 0.37012458,\n",
       "       0.7161033 , 0.45877767, 0.11764562, 0.21073711, 0.5441973 ,\n",
       "       0.9898069 , 0.38395858, 0.04683566, 0.8718462 , 0.25881708,\n",
       "       0.873135  , 0.64698434, 0.41981232, 0.24148273, 0.09550059,\n",
       "       0.9820819 , 0.1570208 , 0.2997682 , 0.36795306, 0.9453716 ,\n",
       "       0.11056781, 0.52287626, 0.8305441 , 0.0020721 , 0.9594034 ,\n",
       "       0.85630023, 0.3944497 , 0.22028875, 0.67066073, 0.01875746,\n",
       "       0.48057055, 0.5953454 , 0.6847329 , 0.18988943, 0.12489867],\n",
       "      dtype=float32)>"
      ]
     },
     "execution_count": 169,
     "metadata": {},
     "output_type": "execute_result"
    }
   ],
   "source": [
    "tf.squeeze(M)"
   ]
  },
  {
   "cell_type": "code",
   "execution_count": 171,
   "id": "0a743217",
   "metadata": {},
   "outputs": [
    {
     "data": {
      "text/plain": [
       "<tf.Tensor: shape=(3, 2), dtype=int32, numpy=\n",
       "array([[ 6,  7],\n",
       "       [10, 11],\n",
       "       [ 9, 11]])>"
      ]
     },
     "execution_count": 171,
     "metadata": {},
     "output_type": "execute_result"
    }
   ],
   "source": [
    "tensor"
   ]
  },
  {
   "cell_type": "code",
   "execution_count": 179,
   "id": "4de80001",
   "metadata": {},
   "outputs": [
    {
     "data": {
      "text/plain": [
       "<tf.Tensor: shape=(4, 4), dtype=float32, numpy=\n",
       "array([[0., 1., 0., 0.],\n",
       "       [0., 0., 1., 0.],\n",
       "       [0., 0., 0., 1.],\n",
       "       [0., 0., 0., 0.]], dtype=float32)>"
      ]
     },
     "execution_count": 179,
     "metadata": {},
     "output_type": "execute_result"
    }
   ],
   "source": [
    "## One hot encoding of tensors\n",
    "one_hot = [1,2,3,5]\n",
    "tf.one_hot(one_hot,depth=4)"
   ]
  },
  {
   "cell_type": "markdown",
   "id": "e2714d32",
   "metadata": {},
   "source": [
    "\n",
    "### Finding Access to GPU"
   ]
  },
  {
   "cell_type": "code",
   "execution_count": 184,
   "id": "bd09a506",
   "metadata": {},
   "outputs": [
    {
     "data": {
      "text/plain": [
       "[PhysicalDevice(name='/physical_device:CPU:0', device_type='CPU')]"
      ]
     },
     "execution_count": 184,
     "metadata": {},
     "output_type": "execute_result"
    }
   ],
   "source": [
    "tf.config.list_physical_devices(\"CPU\")"
   ]
  },
  {
   "cell_type": "markdown",
   "id": "ae3e8120",
   "metadata": {},
   "source": [
    "** If you have access to CUDA enabled GPU, tensorflow will automatically use it in computation **\n",
    "<br>\n",
    "** CUDA is a parallel computing platform and application programming interface that allows software to use certain types of graphics processing unit for general purpose processing. **"
   ]
  },
  {
   "cell_type": "code",
   "execution_count": null,
   "id": "85e477be",
   "metadata": {},
   "outputs": [],
   "source": []
  }
 ],
 "metadata": {
  "kernelspec": {
   "display_name": "Python 3",
   "language": "python",
   "name": "python3"
  },
  "language_info": {
   "codemirror_mode": {
    "name": "ipython",
    "version": 3
   },
   "file_extension": ".py",
   "mimetype": "text/x-python",
   "name": "python",
   "nbconvert_exporter": "python",
   "pygments_lexer": "ipython3",
   "version": "3.8.8"
  }
 },
 "nbformat": 4,
 "nbformat_minor": 5
}
